{
 "cells": [
  {
   "cell_type": "code",
   "execution_count": 1,
   "id": "initial_id",
   "metadata": {
    "collapsed": true,
    "ExecuteTime": {
     "end_time": "2024-02-01T08:42:44.124862Z",
     "start_time": "2024-02-01T08:42:41.933604500Z"
    }
   },
   "outputs": [],
   "source": [
    "import os\n",
    "import csv\n",
    "import logging\n",
    "import argparse\n",
    "from tqdm import tqdm\n",
    "from pathlib import Path\n",
    "from datetime import datetime\n",
    "\n",
    "import torch\n",
    "from torch import optim\n",
    "from torch.utils.data import random_split, DataLoader\n",
    "from torch.optim.lr_scheduler import CyclicLR\n",
    "\n",
    "from models.seg.UNet.unet_model import UNet, R2UNet\n",
    "from models.seg.MaskRCNN.model import MaskRCNNResNet50\n",
    "\n",
    "from utils.indicators import segmentation_indicators, detection_indicators\n",
    "from utils.utils import EarlyStopping\n",
    "from utils.data_loading import SegmentDatasetJson"
   ]
  },
  {
   "cell_type": "code",
   "execution_count": 2,
   "outputs": [],
   "source": [
    "image_dir = 'E:/Datas/work/HairEffect/RawData/HAM10000/HAM10000_images'\n",
    "json_dir = '../datas/json_data/maskrcnn_annotation_HAM10000.json'\n",
    "\n",
    "epochs = 200\n",
    "batch_size = 4\n",
    "num_classes = 2\n",
    "gc = 5.0\n",
    "lr = 1e-4\n",
    "size = (256, 256)\n",
    "val = 0.2\n",
    "amp = True\n",
    "\n",
    "device = torch.device('cuda' if torch.cuda.is_available()  else 'cpu')"
   ],
   "metadata": {
    "collapsed": false,
    "ExecuteTime": {
     "end_time": "2024-02-01T08:42:44.174412300Z",
     "start_time": "2024-02-01T08:42:44.169951900Z"
    }
   },
   "id": "5a8de2db4e319ff5"
  },
  {
   "cell_type": "code",
   "execution_count": 3,
   "outputs": [],
   "source": [
    "now_time, now_h = datetime.now().strftime(\"%Y-%m-%d\"), datetime.now().strftime(\"%H\")\n",
    "checkpoint_save_dir = Path(f'./checkpoints/MaskRCNN/{now_time}/{now_h}')\n",
    "indicators_save_dir = Path(f'./indicators/MaskRCNN/{now_time}/{now_h}')\n",
    "Path(checkpoint_save_dir).mkdir(parents=True, exist_ok=True)\n",
    "Path(indicators_save_dir).mkdir(parents=True, exist_ok=True)"
   ],
   "metadata": {
    "collapsed": false,
    "ExecuteTime": {
     "end_time": "2024-02-01T08:42:44.190761200Z",
     "start_time": "2024-02-01T08:42:44.174412300Z"
    }
   },
   "id": "6f5acb7a8ba45da8"
  },
  {
   "cell_type": "code",
   "execution_count": null,
   "outputs": [],
   "source": [
    "model = MaskRCNNResNet50(n_classes=num_classes)\n",
    "model = model.to(device=device, memory_format=torch.channels_last)"
   ],
   "metadata": {
    "collapsed": false
   },
   "id": "43f200ad524329ae"
  }
 ],
 "metadata": {
  "kernelspec": {
   "name": "pytorch",
   "language": "python",
   "display_name": "PyTorch"
  },
  "language_info": {
   "codemirror_mode": {
    "name": "ipython",
    "version": 2
   },
   "file_extension": ".py",
   "mimetype": "text/x-python",
   "name": "python",
   "nbconvert_exporter": "python",
   "pygments_lexer": "ipython2",
   "version": "2.7.6"
  }
 },
 "nbformat": 4,
 "nbformat_minor": 5
}
